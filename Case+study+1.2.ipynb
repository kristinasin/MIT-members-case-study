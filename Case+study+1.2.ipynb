{
 "cells": [
  {
   "cell_type": "code",
   "execution_count": 110,
   "metadata": {
    "collapsed": true
   },
   "outputs": [],
   "source": [
    "from bs4 import BeautifulSoup as bs\n",
    "import requests as rq\n",
    "from tqdm import tqdm_notebook\n",
    "import numpy as n"
   ]
  },
  {
   "cell_type": "code",
   "execution_count": 81,
   "metadata": {
    "collapsed": true
   },
   "outputs": [],
   "source": [
    "list_url = 'https://www.eecs.mit.edu/people/faculty-advisors'\n",
    "list_r = rq.get(list_url)\n",
    "lr_html = list_r.text\n",
    "l_soup = bs(lr_html, 'lxml')\n",
    "page_data = l_soup.select('.views-row')\n",
    "full_names = []\n",
    "names = []\n",
    "last_names = []\n",
    "for member in page_data:\n",
    "    member_names = member.select('.field-content.card-title')\n",
    "    if len(member_names)==1:\n",
    "        members = [names.get_text() for names in member_names]\n",
    "        full_names.append(members[0].strip())\n",
    "        names.append(members[0][0])\n",
    "        last_names.append(\" \".join(members[0].split(' ')[1:]))"
   ]
  },
  {
   "cell_type": "code",
   "execution_count": 105,
   "metadata": {},
   "outputs": [
    {
     "name": "stdout",
     "output_type": "stream",
     "text": [
      "['Hal+Abelson', 'Elfar+Adalsteinsson', 'Anant+Agarwal', 'Akintunde+Akinwande', 'Mohammad+Alizadeh', 'Saman+Amarasinghe', 'Jacob+Andreas', 'Dimitri+Antoniadis', 'Arthur+Baggeroer', 'Hari+Balakrishnan', 'Marc+A+Baldo', 'Regina+Barzilay', 'Adam+Belay', 'Karl+Berggren', 'Tim+Berners-Lee', 'Dimitri+Bertsekas', 'Robert+Berwick', 'Sangeeta+Bhatia', 'Duane+Boning', 'Louis+Braida', 'Guy+Bresler', 'Tamara+Broderick', 'Rodney+Brooks', 'Vladimir+Bulovic', 'Michael+Carbin', 'Vincent+Chan', 'Anantha+Chandrakasan', 'Adam+Chlipala', 'Isaac+Chuang', 'David+Clark', 'Fernando+Corbató', 'Munther+Dahleh', 'Luca+Daniel', 'Constantinos+Daskalakis', 'Randall+Davis', 'Jesús+del+Alamo', 'Erik+Demaine', 'Jack+Dennis', 'Srini+Devadas', 'David+DeWitt', 'Fredo+Durand', 'Joel+Emer', 'Tony+Eng', 'Dirk+R+Englund', 'Clifton+Fonstad', 'David+Forney', 'Dennis+Freeman', 'William+Freeman', 'James+Fujimoto', 'Robert+Gallager', 'Manya+Ghobadi', 'David+Gifford', 'Shafi+Goldwasser', 'Polina+Golland', 'Martha+Gray', 'W+Eric+L+Grimson', 'Alan+Grodzinsky', 'John+Guttag', 'Peter+Hagelstein', 'Ruonan+Han', 'Jongyoon+Han', 'Song+Han', 'Thomas+Heldt', 'Frederick+Hennie+III', 'Berthold+Horn', 'Qing+Hu', 'Piotr+Indyk', 'Erich+Ippen', 'Phillip+Isola', 'Tommi+Jaakkola', 'Daniel+Jackson', 'Patrick+Jaillet', 'Stefanie+Jegelka', 'M+Frans+Kaashoek', 'Leslie+Kaelbling', 'David+Karger', 'John+Kassakian', 'Dina+Katabi', 'Manolis+Kellis', 'James+Kirtley+Jr', 'Leslie+Kolodziejski', 'Jing+Kong', 'Tim+Kraska', 'Butler+Lampson', 'Jeffrey+Lang', 'Hae-Seung+Lee', 'Steven+Leeb', 'Charles+Leiserson', 'Jae+Lim', 'Barbara+Liskov', 'Luqiao+Liu', 'Andrew+W+Lo', 'Tomás+Lozano-Pérez', 'Timothy+Lu', 'Nancy+Lynch', 'Samuel+Madden', 'Aleksander+Madry', 'Thomas+Magnanti', 'Roger+Mark', 'Wojciech+Matusik', 'Muriel+Médard', 'Alexandre+Megretski', 'Albert+Meyer', 'Silvio+Micali', 'Rob+Miller', 'Sanjoy+Mitter', 'Robert+Morris', 'Joel+Moses', 'Stefanie+Mueller', 'Farnaz+Niroui', \"Kevin+P+O'Brien\", 'Alan+Oppenheim', 'Terry+Orlando', 'Asuman+Ozdaglar', 'Tomás+Palacios', 'Pablo+Parrilo', 'Paul+Penfield+Jr', 'David+Perreault', 'Yury+Polyanskiy', 'Rajeev+Ram', 'L+Rafael+Reif', 'Negar+Reiskarimian', 'Martin+Rinard', 'Ronald+Rivest', 'Ronitt+Rubinfeld', 'Jennifer+LM+Rupp', 'Daniela+Rus', 'Daniel+Sanchez', 'Arvind+Satyanarayan', 'Joel+Schindall', 'Martin+A+Schmidt', 'Devavrat+Shah', 'Jeffrey+Shapiro', 'Nir+Shavit', 'Max+Shulaker', 'Julian+Shun', 'Henry+Smith', 'Charles+Sodini', 'Armando+Solar-Lezama', 'Justin+Solomon', 'David+Sontag', 'Suvrit+Sra', 'Michael+Stonebraker', 'Collin+Stultz', 'Gerald+Sussman', 'Vivienne+Sze', 'Peter+Szolovits', 'Russell+Tedrake', 'Christopher+Terman', 'Bruce+Tidor', 'Antonio+Torralba', 'John+Tsitsiklis', 'Caroline+Uhler', 'Vinod+Vaikuntanathan', 'George+Verghese', 'Joel+Voldman', 'Stephen+Ward', 'Cardinal+Warde', 'Michael+Watts', 'Thomas+F+Weiss', 'Ron+Weiss', 'Jacob+White', 'Virginia+Williams', 'Ryan+Williams', 'Alan+Willsky', 'Gerald+Wilson', 'Patrick+Winston', 'Gregory+Wornell', 'Markus+Zahn', 'Nickolai+Zeldovich', 'Lizhong+Zheng', 'Victor+Zue']\n"
     ]
    }
   ],
   "source": [
    "link_names = []\n",
    "for name in full_names:\n",
    "    link_names.append(name.replace(' ','+').replace('.','').replace(',',''))\n",
    "not_relevant = link_names.pop(8)\n",
    "print (link_names)"
   ]
  },
  {
   "cell_type": "code",
   "execution_count": 106,
   "metadata": {
    "collapsed": true
   },
   "outputs": [],
   "source": [
    "def abstracts_by_author(x):\n",
    "    url = 'https://arxiv.org/search/?searchtype=author&query='+ str(x) + '&abstracts=show&size=200&order=-announced_date_first'\n",
    "    r = rq.get(url)\n",
    "    r_html = r.text\n",
    "    soup = bs(r_html, 'lxml')\n",
    "    author_abs = soup.select('.content')\n",
    "    all_by_author = []\n",
    "    for ab in author_abs:\n",
    "        soup_ab = ab.select('.abstract-full')\n",
    "        ab_group = [i.get_text().strip().replace('\\n        △ Less','') for i in soup_ab]\n",
    "        all_by_author.append(ab_group)\n",
    "    return all_by_author[0]\n",
    "        "
   ]
  },
  {
   "cell_type": "code",
   "execution_count": 107,
   "metadata": {
    "collapsed": true
   },
   "outputs": [],
   "source": [
    "def all_abstracts():\n",
    "    all_abs = []\n",
    "    n_authors = len(link_names)\n",
    "    print('Total number of authors:', n_authors)\n",
    "    for n in tqdm_notebook(range(1, n_authors+1)):\n",
    "        author = abstracts_by_author(link_names[n-1])\n",
    "        all_abs.extend(author)\n",
    "    return all_abs"
   ]
  },
  {
   "cell_type": "code",
   "execution_count": 108,
   "metadata": {},
   "outputs": [
    {
     "name": "stdout",
     "output_type": "stream",
     "text": [
      "Total number of authors: 172\n"
     ]
    },
    {
     "data": {
      "application/vnd.jupyter.widget-view+json": {
       "model_id": "e66664a450024423bd6485df7cfe3152",
       "version_major": 2,
       "version_minor": 0
      },
      "text/plain": [
       "A Jupyter Widget"
      ]
     },
     "metadata": {},
     "output_type": "display_data"
    },
    {
     "name": "stdout",
     "output_type": "stream",
     "text": [
      "\n"
     ]
    }
   ],
   "source": [
    "abstracts = all_abstracts()"
   ]
  },
  {
   "cell_type": "code",
   "execution_count": 109,
   "metadata": {},
   "outputs": [
    {
     "name": "stdout",
     "output_type": "stream",
     "text": [
      "5002\n"
     ]
    }
   ],
   "source": [
    "print(len(abstracts))"
   ]
  },
  {
   "cell_type": "code",
   "execution_count": null,
   "metadata": {
    "collapsed": true
   },
   "outputs": [],
   "source": [
    "class SVILDA():\n",
    "    def __init__(self, vocab, K, D, alpha, eta, tau, kappa, docs, iterations):\n",
    "        self ._vocab = vocab\n",
    "        self ._V = len(vocab)\n",
    "        self ._K= K\n",
    "        self ._D = D\n",
    "        self ._alpha = alpha\n",
    "        self ._eta = eta\n",
    "        self ._tau = tau\n",
    "        self ._kappa = kappa\n",
    "        self ._lambda = 1* n.random.gamma(100., 1./100., (self._K, self._V))\n",
    "        self ._Elogbeta = dirichlet_expectation(self._lambda)\n",
    "        self ._expElogbeta = n.exp(self._Elogbeta)\n",
    "        self ._docs = docs\n",
    "        self.ct = 0\n",
    "        self._iterations = iterations"
   ]
  },
  {
   "cell_type": "code",
   "execution_count": null,
   "metadata": {
    "collapsed": true
   },
   "outputs": [],
   "source": [
    "def dirichlet_expectation(alpha):\n",
    "    if (len(alpha.shape) == 1):\n",
    "    return (psi(alpha) - psi(n.sum(alpha)))\n",
    "    return (psi(alpha) - psi(n.sum(alpha, 1))[:, n.newaxis])"
   ]
  }
 ],
 "metadata": {
  "kernelspec": {
   "display_name": "Python 3",
   "language": "python",
   "name": "python3"
  },
  "language_info": {
   "codemirror_mode": {
    "name": "ipython",
    "version": 3
   },
   "file_extension": ".py",
   "mimetype": "text/x-python",
   "name": "python",
   "nbconvert_exporter": "python",
   "pygments_lexer": "ipython3",
   "version": "3.6.3"
  }
 },
 "nbformat": 4,
 "nbformat_minor": 2
}
